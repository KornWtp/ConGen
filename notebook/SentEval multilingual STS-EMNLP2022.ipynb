{
 "cells": [
  {
   "cell_type": "code",
   "execution_count": 1,
   "metadata": {},
   "outputs": [],
   "source": [
    "import os\n",
    "os.environ[\"CUDA_VISIBLE_DEVICES\"] = \"6\""
   ]
  },
  {
   "cell_type": "code",
   "execution_count": 2,
   "metadata": {},
   "outputs": [],
   "source": [
    "import senteval\n",
    "import pandas as pd\n",
    "import numpy as np\n",
    "from sentence_transformers import SentenceTransformer, models,LoggingHandler\n",
    "from glob import glob\n",
    "from tqdm import tqdm\n",
    "import zipfile\n",
    "import io\n",
    "from sentence_transformers.evaluation import EmbeddingSimilarityEvaluator\n",
    "import logging\n",
    "\n",
    "logging.basicConfig(format='%(asctime)s - %(message)s',\n",
    "        datefmt='%Y-%m-%d %H:%M:%S',\n",
    "        level=logging.INFO,\n",
    "        handlers=[LoggingHandler()])"
   ]
  },
  {
   "cell_type": "code",
   "execution_count": 4,
   "metadata": {},
   "outputs": [],
   "source": [
    "sts_corpus = \"data/STS2017/STS2017-extended.zip\"\n",
    "source_languages = ['en']                     \n",
    "target_languages = ['en', 'de', 'es', 'fr', 'ar', 'tr'] \n",
    "\n",
    "all_languages = list(set(list(source_languages)+list(target_languages)))\n",
    "sts_data = {}\n",
    "evaluators = [] \n",
    "with zipfile.ZipFile(sts_corpus) as zip:\n",
    "        filelist = zip.namelist()\n",
    "        for i in range(len(all_languages)):\n",
    "                for j in range(i, len(all_languages)):\n",
    "                        lang1 = all_languages[i]\n",
    "                        lang2 = all_languages[j]\n",
    "                        filepath = 'STS2017-extended/STS.{}-{}.txt'.format(lang1, lang2)\n",
    "                        if filepath not in filelist:\n",
    "                                lang1, lang2 = lang2, lang1\n",
    "                                filepath = 'STS2017-extended/STS.{}-{}.txt'.format(lang1, lang2)\n",
    "\n",
    "                        if filepath in filelist:\n",
    "                                filename = os.path.basename(filepath)\n",
    "                                sts_data[filename] = {'sentences1': [], 'sentences2': [], 'scores': []}\n",
    "\n",
    "                                fIn = zip.open(filepath)\n",
    "                                for line in io.TextIOWrapper(fIn, 'utf8'):\n",
    "                                        sent1, sent2, score = line.strip().split(\"\\t\")\n",
    "                                        score = float(score)\n",
    "                                        sts_data[filename]['sentences1'].append(sent1)\n",
    "                                        sts_data[filename]['sentences2'].append(sent2)\n",
    "                                        sts_data[filename]['scores'].append(score)"
   ]
  },
  {
   "cell_type": "markdown",
   "metadata": {},
   "source": [
    "# SEED"
   ]
  },
  {
   "cell_type": "code",
   "execution_count": 9,
   "metadata": {
    "scrolled": true
   },
   "outputs": [
    {
     "name": "stdout",
     "output_type": "stream",
     "text": [
      "Model:congen_models/Multilingual/Asym_Multilingual-MiniLM-L12\n",
      "2022-03-11 05:42:59 - Load pretrained SentenceTransformer: congen_models/Multilingual/Asym_Multilingual-MiniLM-L12\n",
      "2022-03-11 05:43:02 - Use pytorch device: cuda\n",
      "2022-03-11 05:43:02 - EmbeddingSimilarityEvaluator: Evaluating the model on STS.ar-ar.txt dataset:\n",
      "2022-03-11 05:43:22 - Cosine-Similarity :\tSpearman: 0.7798\n",
      "2022-03-11 05:43:22 - EmbeddingSimilarityEvaluator: Evaluating the model on STS.en-ar.txt dataset:\n",
      "2022-03-11 05:43:22 - Cosine-Similarity :\tSpearman: 0.8304\n",
      "2022-03-11 05:43:22 - EmbeddingSimilarityEvaluator: Evaluating the model on STS.es-es.txt dataset:\n",
      "2022-03-11 05:43:23 - Cosine-Similarity :\tSpearman: 0.8841\n",
      "2022-03-11 05:43:23 - EmbeddingSimilarityEvaluator: Evaluating the model on STS.es-en.txt dataset:\n",
      "2022-03-11 05:43:23 - Cosine-Similarity :\tSpearman: 0.8424\n",
      "2022-03-11 05:43:23 - EmbeddingSimilarityEvaluator: Evaluating the model on STS.en-tr.txt dataset:\n",
      "2022-03-11 05:43:23 - Cosine-Similarity :\tSpearman: 0.8339\n",
      "2022-03-11 05:43:23 - EmbeddingSimilarityEvaluator: Evaluating the model on STS.en-en.txt dataset:\n",
      "2022-03-11 05:43:24 - Cosine-Similarity :\tSpearman: 0.8714\n",
      "2022-03-11 05:43:24 - EmbeddingSimilarityEvaluator: Evaluating the model on STS.en-de.txt dataset:\n",
      "2022-03-11 05:43:24 - Cosine-Similarity :\tSpearman: 0.8422\n",
      "2022-03-11 05:43:24 - EmbeddingSimilarityEvaluator: Evaluating the model on STS.fr-en.txt dataset:\n",
      "2022-03-11 05:43:24 - Cosine-Similarity :\tSpearman: 0.8658\n",
      "Model:congen_models/Multilingual/Asym_distilbert-base-multilingual-cased\n",
      "2022-03-11 05:43:24 - Load pretrained SentenceTransformer: congen_models/Multilingual/Asym_distilbert-base-multilingual-cased\n",
      "2022-03-11 05:43:27 - Use pytorch device: cuda\n",
      "2022-03-11 05:43:27 - EmbeddingSimilarityEvaluator: Evaluating the model on STS.ar-ar.txt dataset:\n",
      "2022-03-11 05:43:28 - Cosine-Similarity :\tSpearman: 0.8012\n",
      "2022-03-11 05:43:28 - EmbeddingSimilarityEvaluator: Evaluating the model on STS.en-ar.txt dataset:\n",
      "2022-03-11 05:43:28 - Cosine-Similarity :\tSpearman: 0.8352\n",
      "2022-03-11 05:43:28 - EmbeddingSimilarityEvaluator: Evaluating the model on STS.es-es.txt dataset:\n",
      "2022-03-11 05:43:29 - Cosine-Similarity :\tSpearman: 0.8920\n",
      "2022-03-11 05:43:29 - EmbeddingSimilarityEvaluator: Evaluating the model on STS.es-en.txt dataset:\n",
      "2022-03-11 05:43:29 - Cosine-Similarity :\tSpearman: 0.8287\n",
      "2022-03-11 05:43:29 - EmbeddingSimilarityEvaluator: Evaluating the model on STS.en-tr.txt dataset:\n",
      "2022-03-11 05:43:30 - Cosine-Similarity :\tSpearman: 0.8382\n",
      "2022-03-11 05:43:30 - EmbeddingSimilarityEvaluator: Evaluating the model on STS.en-en.txt dataset:\n",
      "2022-03-11 05:43:30 - Cosine-Similarity :\tSpearman: 0.8687\n",
      "2022-03-11 05:43:30 - EmbeddingSimilarityEvaluator: Evaluating the model on STS.en-de.txt dataset:\n",
      "2022-03-11 05:43:30 - Cosine-Similarity :\tSpearman: 0.8310\n",
      "2022-03-11 05:43:30 - EmbeddingSimilarityEvaluator: Evaluating the model on STS.fr-en.txt dataset:\n",
      "2022-03-11 05:43:31 - Cosine-Similarity :\tSpearman: 0.8641\n"
     ]
    }
   ],
   "source": [
    "model_list = glob(f'congen_models/Multilingual/*')\n",
    "\n",
    "for model_name in model_list:\n",
    "    print(f\"Model:{model_name}\")\n",
    "    model = SentenceTransformer(model_name)\n",
    "    for filename, data in sts_data.items():\n",
    "            test_evaluator = EmbeddingSimilarityEvaluator(data['sentences1'], data['sentences2'], data['scores'], batch_size=128, name=filename, show_progress_bar=False)\n",
    "            test_evaluator(model, output_path=model_name)\n",
    "            "
   ]
  },
  {
   "cell_type": "markdown",
   "metadata": {},
   "source": [
    "# L2"
   ]
  },
  {
   "cell_type": "code",
   "execution_count": 7,
   "metadata": {
    "scrolled": true
   },
   "outputs": [
    {
     "name": "stdout",
     "output_type": "stream",
     "text": [
      "Model:output/l2_mono/L2-multilingual-T-princeton-nlp-unsup-simcse-roberta-large-S-microsoft-Multilingual-MiniLM-L12-H384\n",
      "2022-01-25 05:59:41 - Load pretrained SentenceTransformer: output/l2_mono/L2-multilingual-T-princeton-nlp-unsup-simcse-roberta-large-S-microsoft-Multilingual-MiniLM-L12-H384\n",
      "2022-01-25 05:59:45 - Use pytorch device: cuda\n",
      "2022-01-25 05:59:46 - EmbeddingSimilarityEvaluator: Evaluating the model on STS.en-de.txt dataset:\n",
      "2022-01-25 05:59:46 - Cosine-Similarity :\tSpearman: 0.5992\n",
      "2022-01-25 05:59:46 - EmbeddingSimilarityEvaluator: Evaluating the model on STS.es-es.txt dataset:\n",
      "2022-01-25 05:59:47 - Cosine-Similarity :\tSpearman: 0.7474\n",
      "2022-01-25 05:59:47 - EmbeddingSimilarityEvaluator: Evaluating the model on STS.es-en.txt dataset:\n",
      "2022-01-25 05:59:47 - Cosine-Similarity :\tSpearman: 0.5214\n",
      "2022-01-25 05:59:47 - EmbeddingSimilarityEvaluator: Evaluating the model on STS.fr-en.txt dataset:\n",
      "2022-01-25 05:59:48 - Cosine-Similarity :\tSpearman: 0.5708\n",
      "2022-01-25 05:59:48 - EmbeddingSimilarityEvaluator: Evaluating the model on STS.en-tr.txt dataset:\n",
      "2022-01-25 05:59:48 - Cosine-Similarity :\tSpearman: 0.3327\n",
      "2022-01-25 05:59:48 - EmbeddingSimilarityEvaluator: Evaluating the model on STS.en-en.txt dataset:\n",
      "2022-01-25 05:59:49 - Cosine-Similarity :\tSpearman: 0.8361\n",
      "2022-01-25 05:59:49 - EmbeddingSimilarityEvaluator: Evaluating the model on STS.en-ar.txt dataset:\n",
      "2022-01-25 05:59:49 - Cosine-Similarity :\tSpearman: 0.3950\n",
      "2022-01-25 05:59:49 - EmbeddingSimilarityEvaluator: Evaluating the model on STS.ar-ar.txt dataset:\n",
      "2022-01-25 05:59:50 - Cosine-Similarity :\tSpearman: 0.6025\n",
      "Model:output/l2_mono/L2-multilingual-T-princeton-nlp-unsup-simcse-roberta-large-S-distilbert-base-multilingual-cased\n",
      "2022-01-25 05:59:50 - Load pretrained SentenceTransformer: output/l2_mono/L2-multilingual-T-princeton-nlp-unsup-simcse-roberta-large-S-distilbert-base-multilingual-cased\n",
      "2022-01-25 05:59:54 - Use pytorch device: cuda\n",
      "2022-01-25 05:59:54 - EmbeddingSimilarityEvaluator: Evaluating the model on STS.en-de.txt dataset:\n",
      "2022-01-25 05:59:55 - Cosine-Similarity :\tSpearman: 0.5359\n",
      "2022-01-25 05:59:55 - EmbeddingSimilarityEvaluator: Evaluating the model on STS.es-es.txt dataset:\n",
      "2022-01-25 05:59:55 - Cosine-Similarity :\tSpearman: 0.7710\n",
      "2022-01-25 05:59:55 - EmbeddingSimilarityEvaluator: Evaluating the model on STS.es-en.txt dataset:\n",
      "2022-01-25 05:59:56 - Cosine-Similarity :\tSpearman: 0.4151\n",
      "2022-01-25 05:59:56 - EmbeddingSimilarityEvaluator: Evaluating the model on STS.fr-en.txt dataset:\n",
      "2022-01-25 05:59:56 - Cosine-Similarity :\tSpearman: 0.4648\n",
      "2022-01-25 05:59:56 - EmbeddingSimilarityEvaluator: Evaluating the model on STS.en-tr.txt dataset:\n",
      "2022-01-25 05:59:57 - Cosine-Similarity :\tSpearman: 0.1073\n",
      "2022-01-25 05:59:57 - EmbeddingSimilarityEvaluator: Evaluating the model on STS.en-en.txt dataset:\n",
      "2022-01-25 05:59:57 - Cosine-Similarity :\tSpearman: 0.8376\n",
      "2022-01-25 05:59:57 - EmbeddingSimilarityEvaluator: Evaluating the model on STS.en-ar.txt dataset:\n",
      "2022-01-25 05:59:58 - Cosine-Similarity :\tSpearman: 0.2716\n",
      "2022-01-25 05:59:58 - EmbeddingSimilarityEvaluator: Evaluating the model on STS.ar-ar.txt dataset:\n",
      "2022-01-25 05:59:58 - Cosine-Similarity :\tSpearman: 0.5641\n"
     ]
    }
   ],
   "source": [
    "model_list = glob(f'output/l2_mono/L2-multilingual*')\n",
    "\n",
    "for model_name in model_list:\n",
    "    print(f\"Model:{model_name}\")\n",
    "    model = SentenceTransformer(model_name)\n",
    "    for filename, data in sts_data.items():\n",
    "            test_evaluator = EmbeddingSimilarityEvaluator(data['sentences1'], data['sentences2'], data['scores'], batch_size=128, name=filename, show_progress_bar=False)\n",
    "            test_evaluator(model, output_path=model_name)\n",
    "            "
   ]
  },
  {
   "cell_type": "markdown",
   "metadata": {},
   "source": [
    "# Making"
   ]
  },
  {
   "cell_type": "code",
   "execution_count": 5,
   "metadata": {
    "scrolled": true
   },
   "outputs": [
    {
     "name": "stdout",
     "output_type": "stream",
     "text": [
      "Model:output/making/making-T-princeton-nlp-unsup-simcse-roberta-large-S-distilbert-base-multilingual-cased\n",
      "2022-01-24 12:32:03 - Load pretrained SentenceTransformer: output/making/making-T-princeton-nlp-unsup-simcse-roberta-large-S-distilbert-base-multilingual-cased\n",
      "2022-01-24 12:32:09 - Use pytorch device: cuda\n",
      "2022-01-24 12:32:09 - EmbeddingSimilarityEvaluator: Evaluating the model on STS.ar-ar.txt dataset:\n",
      "2022-01-24 12:32:10 - Cosine-Similarity :\tSpearman: 0.7721\n",
      "2022-01-24 12:32:10 - EmbeddingSimilarityEvaluator: Evaluating the model on STS.en-ar.txt dataset:\n",
      "2022-01-24 12:32:10 - Cosine-Similarity :\tSpearman: 0.8110\n",
      "2022-01-24 12:32:10 - EmbeddingSimilarityEvaluator: Evaluating the model on STS.en-de.txt dataset:\n",
      "2022-01-24 12:32:11 - Cosine-Similarity :\tSpearman: 0.8209\n",
      "2022-01-24 12:32:11 - EmbeddingSimilarityEvaluator: Evaluating the model on STS.es-es.txt dataset:\n",
      "2022-01-24 12:32:12 - Cosine-Similarity :\tSpearman: 0.8721\n",
      "2022-01-24 12:32:12 - EmbeddingSimilarityEvaluator: Evaluating the model on STS.es-en.txt dataset:\n",
      "2022-01-24 12:32:12 - Cosine-Similarity :\tSpearman: 0.8154\n",
      "2022-01-24 12:32:12 - EmbeddingSimilarityEvaluator: Evaluating the model on STS.en-en.txt dataset:\n",
      "2022-01-24 12:32:13 - Cosine-Similarity :\tSpearman: 0.8624\n",
      "2022-01-24 12:32:13 - EmbeddingSimilarityEvaluator: Evaluating the model on STS.fr-en.txt dataset:\n",
      "2022-01-24 12:32:13 - Cosine-Similarity :\tSpearman: 0.8497\n",
      "2022-01-24 12:32:13 - EmbeddingSimilarityEvaluator: Evaluating the model on STS.en-tr.txt dataset:\n",
      "2022-01-24 12:32:14 - Cosine-Similarity :\tSpearman: 0.8076\n",
      "Model:output/making/making-T-princeton-nlp-unsup-simcse-roberta-large-S-microsoft-Multilingual-MiniLM-L12-H384\n",
      "2022-01-24 12:32:14 - Load pretrained SentenceTransformer: output/making/making-T-princeton-nlp-unsup-simcse-roberta-large-S-microsoft-Multilingual-MiniLM-L12-H384\n",
      "2022-01-24 12:32:22 - Use pytorch device: cuda\n",
      "2022-01-24 12:32:22 - EmbeddingSimilarityEvaluator: Evaluating the model on STS.ar-ar.txt dataset:\n",
      "2022-01-24 12:32:23 - Cosine-Similarity :\tSpearman: 0.7700\n",
      "2022-01-24 12:32:23 - EmbeddingSimilarityEvaluator: Evaluating the model on STS.en-ar.txt dataset:\n",
      "2022-01-24 12:32:23 - Cosine-Similarity :\tSpearman: 0.8190\n",
      "2022-01-24 12:32:23 - EmbeddingSimilarityEvaluator: Evaluating the model on STS.en-de.txt dataset:\n",
      "2022-01-24 12:32:24 - Cosine-Similarity :\tSpearman: 0.8237\n",
      "2022-01-24 12:32:24 - EmbeddingSimilarityEvaluator: Evaluating the model on STS.es-es.txt dataset:\n",
      "2022-01-24 12:32:24 - Cosine-Similarity :\tSpearman: 0.8627\n",
      "2022-01-24 12:32:24 - EmbeddingSimilarityEvaluator: Evaluating the model on STS.es-en.txt dataset:\n",
      "2022-01-24 12:32:25 - Cosine-Similarity :\tSpearman: 0.8256\n",
      "2022-01-24 12:32:25 - EmbeddingSimilarityEvaluator: Evaluating the model on STS.en-en.txt dataset:\n",
      "2022-01-24 12:32:25 - Cosine-Similarity :\tSpearman: 0.8551\n",
      "2022-01-24 12:32:25 - EmbeddingSimilarityEvaluator: Evaluating the model on STS.fr-en.txt dataset:\n",
      "2022-01-24 12:32:26 - Cosine-Similarity :\tSpearman: 0.8376\n",
      "2022-01-24 12:32:26 - EmbeddingSimilarityEvaluator: Evaluating the model on STS.en-tr.txt dataset:\n",
      "2022-01-24 12:32:26 - Cosine-Similarity :\tSpearman: 0.8077\n"
     ]
    }
   ],
   "source": [
    "model_list = glob(f'output/making/making-T*')\n",
    "\n",
    "for model_name in model_list:\n",
    "    print(f\"Model:{model_name}\")\n",
    "    model = SentenceTransformer(model_name)\n",
    "    for filename, data in sts_data.items():\n",
    "            test_evaluator = EmbeddingSimilarityEvaluator(data['sentences1'], data['sentences2'], data['scores'], batch_size=128, name=filename, show_progress_bar=False)\n",
    "            test_evaluator(model, output_path=model_name)\n",
    "            "
   ]
  },
  {
   "cell_type": "markdown",
   "metadata": {},
   "source": [
    "# BSL"
   ]
  },
  {
   "cell_type": "code",
   "execution_count": 4,
   "metadata": {
    "scrolled": true
   },
   "outputs": [
    {
     "name": "stdout",
     "output_type": "stream",
     "text": [
      "Model:../BSL/training/output/multi_BSL_microsoft-Multilingual-MiniLM-L12-H384_True\n",
      "2022-01-24 12:30:56 - Load pretrained SentenceTransformer: ../BSL/training/output/multi_BSL_microsoft-Multilingual-MiniLM-L12-H384_True\n",
      "2022-01-24 12:31:07 - Use pytorch device: cuda\n",
      "2022-01-24 12:31:07 - EmbeddingSimilarityEvaluator: Evaluating the model on STS.ar-ar.txt dataset:\n",
      "2022-01-24 12:31:47 - Cosine-Similarity :\tSpearman: 0.4166\n",
      "2022-01-24 12:31:47 - EmbeddingSimilarityEvaluator: Evaluating the model on STS.en-ar.txt dataset:\n",
      "2022-01-24 12:31:48 - Cosine-Similarity :\tSpearman: 0.4318\n",
      "2022-01-24 12:31:48 - EmbeddingSimilarityEvaluator: Evaluating the model on STS.en-de.txt dataset:\n",
      "2022-01-24 12:31:49 - Cosine-Similarity :\tSpearman: 0.4596\n",
      "2022-01-24 12:31:49 - EmbeddingSimilarityEvaluator: Evaluating the model on STS.es-es.txt dataset:\n",
      "2022-01-24 12:31:50 - Cosine-Similarity :\tSpearman: 0.5823\n",
      "2022-01-24 12:31:50 - EmbeddingSimilarityEvaluator: Evaluating the model on STS.es-en.txt dataset:\n",
      "2022-01-24 12:31:50 - Cosine-Similarity :\tSpearman: 0.4199\n",
      "2022-01-24 12:31:50 - EmbeddingSimilarityEvaluator: Evaluating the model on STS.en-en.txt dataset:\n",
      "2022-01-24 12:31:51 - Cosine-Similarity :\tSpearman: 0.5299\n",
      "2022-01-24 12:31:51 - EmbeddingSimilarityEvaluator: Evaluating the model on STS.fr-en.txt dataset:\n",
      "2022-01-24 12:31:51 - Cosine-Similarity :\tSpearman: 0.5087\n",
      "2022-01-24 12:31:51 - EmbeddingSimilarityEvaluator: Evaluating the model on STS.en-tr.txt dataset:\n",
      "2022-01-24 12:31:52 - Cosine-Similarity :\tSpearman: 0.5045\n",
      "Model:../BSL/training/output/multi_BSL_distilbert-base-multilingual-cased_True\n",
      "2022-01-24 12:31:52 - Load pretrained SentenceTransformer: ../BSL/training/output/multi_BSL_distilbert-base-multilingual-cased_True\n",
      "2022-01-24 12:31:57 - Use pytorch device: cuda\n",
      "2022-01-24 12:31:58 - EmbeddingSimilarityEvaluator: Evaluating the model on STS.ar-ar.txt dataset:\n",
      "2022-01-24 12:31:59 - Cosine-Similarity :\tSpearman: 0.6705\n",
      "2022-01-24 12:31:59 - EmbeddingSimilarityEvaluator: Evaluating the model on STS.en-ar.txt dataset:\n",
      "2022-01-24 12:32:00 - Cosine-Similarity :\tSpearman: 0.6972\n",
      "2022-01-24 12:32:00 - EmbeddingSimilarityEvaluator: Evaluating the model on STS.en-de.txt dataset:\n",
      "2022-01-24 12:32:00 - Cosine-Similarity :\tSpearman: 0.6823\n",
      "2022-01-24 12:32:00 - EmbeddingSimilarityEvaluator: Evaluating the model on STS.es-es.txt dataset:\n",
      "2022-01-24 12:32:01 - Cosine-Similarity :\tSpearman: 0.7645\n",
      "2022-01-24 12:32:01 - EmbeddingSimilarityEvaluator: Evaluating the model on STS.es-en.txt dataset:\n",
      "2022-01-24 12:32:01 - Cosine-Similarity :\tSpearman: 0.6356\n",
      "2022-01-24 12:32:01 - EmbeddingSimilarityEvaluator: Evaluating the model on STS.en-en.txt dataset:\n",
      "2022-01-24 12:32:02 - Cosine-Similarity :\tSpearman: 0.7331\n",
      "2022-01-24 12:32:02 - EmbeddingSimilarityEvaluator: Evaluating the model on STS.fr-en.txt dataset:\n",
      "2022-01-24 12:32:03 - Cosine-Similarity :\tSpearman: 0.7284\n",
      "2022-01-24 12:32:03 - EmbeddingSimilarityEvaluator: Evaluating the model on STS.en-tr.txt dataset:\n",
      "2022-01-24 12:32:03 - Cosine-Similarity :\tSpearman: 0.7027\n"
     ]
    }
   ],
   "source": [
    "model_list = glob(f'../BSL/training/output/multi*')\n",
    "\n",
    "for model_name in model_list:\n",
    "    print(f\"Model:{model_name}\")\n",
    "    model = SentenceTransformer(model_name)\n",
    "    for filename, data in sts_data.items():\n",
    "            test_evaluator = EmbeddingSimilarityEvaluator(data['sentences1'], data['sentences2'], data['scores'], batch_size=128, name=filename, show_progress_bar=False)\n",
    "            test_evaluator(model, output_path=model_name)\n",
    "            "
   ]
  },
  {
   "cell_type": "code",
   "execution_count": null,
   "metadata": {},
   "outputs": [],
   "source": []
  }
 ],
 "metadata": {
  "kernelspec": {
   "display_name": "Python 3",
   "language": "python",
   "name": "python3"
  },
  "language_info": {
   "codemirror_mode": {
    "name": "ipython",
    "version": 3
   },
   "file_extension": ".py",
   "mimetype": "text/x-python",
   "name": "python",
   "nbconvert_exporter": "python",
   "pygments_lexer": "ipython3",
   "version": "3.6.9"
  }
 },
 "nbformat": 4,
 "nbformat_minor": 2
}
